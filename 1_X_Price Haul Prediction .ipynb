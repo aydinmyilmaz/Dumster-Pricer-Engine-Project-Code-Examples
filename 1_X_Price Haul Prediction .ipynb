{
 "cells": [
  {
   "cell_type": "code",
   "execution_count": 3,
   "metadata": {},
   "outputs": [],
   "source": [
    "import pandas as pd\n",
    "import numpy as np\n",
    "import matplotlib.pyplot as plt\n",
    "pd.set_option('display.max_columns', 130)\n",
    "pd.set_option('display.max_rows', 15000)\n",
    "#pd.set_option('precision', 2)"
   ]
  },
  {
   "cell_type": "code",
   "execution_count": 25,
   "metadata": {},
   "outputs": [
    {
     "data": {
      "text/html": [
       "<div>\n",
       "<style scoped>\n",
       "    .dataframe tbody tr th:only-of-type {\n",
       "        vertical-align: middle;\n",
       "    }\n",
       "\n",
       "    .dataframe tbody tr th {\n",
       "        vertical-align: top;\n",
       "    }\n",
       "\n",
       "    .dataframe thead th {\n",
       "        text-align: right;\n",
       "    }\n",
       "</style>\n",
       "<table border=\"1\" class=\"dataframe\">\n",
       "  <thead>\n",
       "    <tr style=\"text-align: right;\">\n",
       "      <th></th>\n",
       "      <th>price_haul</th>\n",
       "      <th>price_price_deals</th>\n",
       "      <th>price_tons_over_3</th>\n",
       "      <th>customer_tons_include_price</th>\n",
       "      <th>customer_days_include</th>\n",
       "      <th>customer_container_size</th>\n",
       "      <th>customer_waste</th>\n",
       "      <th>customer_state</th>\n",
       "      <th>date_entered_year</th>\n",
       "      <th>short_zip</th>\n",
       "      <th>date_entered_month</th>\n",
       "      <th>date_entered_day</th>\n",
       "      <th>date_entered_hour</th>\n",
       "      <th>pred_haul</th>\n",
       "      <th>diff_haul</th>\n",
       "    </tr>\n",
       "  </thead>\n",
       "  <tbody>\n",
       "    <tr>\n",
       "      <th>2410</th>\n",
       "      <td>150.00</td>\n",
       "      <td>HT</td>\n",
       "      <td>40.0</td>\n",
       "      <td>1.000000</td>\n",
       "      <td>10.0</td>\n",
       "      <td>10.0</td>\n",
       "      <td>Household</td>\n",
       "      <td>IA</td>\n",
       "      <td>2018.0</td>\n",
       "      <td>524</td>\n",
       "      <td>Jun</td>\n",
       "      <td>8.0</td>\n",
       "      <td>11.0</td>\n",
       "      <td>153.7750</td>\n",
       "      <td>-3.7750</td>\n",
       "    </tr>\n",
       "    <tr>\n",
       "      <th>33897</th>\n",
       "      <td>187.00</td>\n",
       "      <td>HT</td>\n",
       "      <td>52.0</td>\n",
       "      <td>2.000000</td>\n",
       "      <td>7.0</td>\n",
       "      <td>40.0</td>\n",
       "      <td>CandD</td>\n",
       "      <td>CA</td>\n",
       "      <td>2016.0</td>\n",
       "      <td>930</td>\n",
       "      <td>Feb</td>\n",
       "      <td>5.0</td>\n",
       "      <td>11.0</td>\n",
       "      <td>189.8198</td>\n",
       "      <td>-2.8198</td>\n",
       "    </tr>\n",
       "    <tr>\n",
       "      <th>23796</th>\n",
       "      <td>392.48</td>\n",
       "      <td>HWT</td>\n",
       "      <td>80.0</td>\n",
       "      <td>2.173913</td>\n",
       "      <td>7.0</td>\n",
       "      <td>20.0</td>\n",
       "      <td>CandD</td>\n",
       "      <td>CA</td>\n",
       "      <td>2018.0</td>\n",
       "      <td>956</td>\n",
       "      <td>Oct</td>\n",
       "      <td>22.0</td>\n",
       "      <td>13.0</td>\n",
       "      <td>429.0168</td>\n",
       "      <td>-36.5368</td>\n",
       "    </tr>\n",
       "  </tbody>\n",
       "</table>\n",
       "</div>"
      ],
      "text/plain": [
       "       price_haul price_price_deals  price_tons_over_3  \\\n",
       "2410       150.00                HT               40.0   \n",
       "33897      187.00                HT               52.0   \n",
       "23796      392.48               HWT               80.0   \n",
       "\n",
       "       customer_tons_include_price  customer_days_include  \\\n",
       "2410                      1.000000                   10.0   \n",
       "33897                     2.000000                    7.0   \n",
       "23796                     2.173913                    7.0   \n",
       "\n",
       "       customer_container_size customer_waste customer_state  \\\n",
       "2410                      10.0      Household             IA   \n",
       "33897                     40.0          CandD             CA   \n",
       "23796                     20.0          CandD             CA   \n",
       "\n",
       "       date_entered_year  short_zip date_entered_month  date_entered_day  \\\n",
       "2410              2018.0        524                Jun               8.0   \n",
       "33897             2016.0        930                Feb               5.0   \n",
       "23796             2018.0        956                Oct              22.0   \n",
       "\n",
       "       date_entered_hour  pred_haul  diff_haul  \n",
       "2410                11.0   153.7750    -3.7750  \n",
       "33897               11.0   189.8198    -2.8198  \n",
       "23796               13.0   429.0168   -36.5368  "
      ]
     },
     "execution_count": 25,
     "metadata": {},
     "output_type": "execute_result"
    }
   ],
   "source": [
    "df.sample(3)"
   ]
  },
  {
   "cell_type": "markdown",
   "metadata": {},
   "source": [
    "# Filtered Data Model"
   ]
  },
  {
   "cell_type": "code",
   "execution_count": 6,
   "metadata": {},
   "outputs": [
    {
     "data": {
      "text/plain": [
       "(25134, 15)"
      ]
     },
     "execution_count": 6,
     "metadata": {},
     "output_type": "execute_result"
    }
   ],
   "source": [
    "df=pd.read_csv(\"08_05_df_preds_fitered_data.csv\",index_col=0)\n",
    "df.shape"
   ]
  },
  {
   "cell_type": "code",
   "execution_count": 10,
   "metadata": {},
   "outputs": [
    {
     "data": {
      "text/plain": [
       "(25134, 13)"
      ]
     },
     "execution_count": 10,
     "metadata": {},
     "output_type": "execute_result"
    }
   ],
   "source": [
    "df_model = df[[\"price_haul\",\"price_price_deals\",\"price_tons_over_3\",\n",
    "                'customer_tons_include_price','customer_days_include', 'customer_container_size',\n",
    "                'customer_waste','customer_state', 'date_entered_year','short_zip',\n",
    "                'date_entered_month', 'date_entered_day', 'date_entered_hour']]\n",
    "#df_model = df_model.dropna()\n",
    "df_model.shape"
   ]
  },
  {
   "cell_type": "code",
   "execution_count": null,
   "metadata": {},
   "outputs": [],
   "source": [
    "# \"price_tons_over_3\" ; \n",
    "\n",
    "X:              [\"price_price_deals\",\"price_tons_over_3\",\n",
    "                'customer_tons_include_price','customer_days_include', 'customer_container_size',\n",
    "                'customer_waste','customer_state', 'date_entered_year','short_zip',\n",
    "                'date_entered_month', 'date_entered_day', 'date_entered_hour']\n",
    "\n",
    "y:               [\"price_haul\"]"
   ]
  },
  {
   "cell_type": "code",
   "execution_count": 12,
   "metadata": {},
   "outputs": [],
   "source": [
    "from sklearn.metrics import mean_squared_error, r2_score\n",
    "from sklearn.model_selection import train_test_split\n",
    "from sklearn.ensemble import RandomForestRegressor\n",
    "from sklearn import metrics\n"
   ]
  },
  {
   "cell_type": "code",
   "execution_count": 15,
   "metadata": {},
   "outputs": [
    {
     "name": "stdout",
     "output_type": "stream",
     "text": [
      "Mean Absolute Error: 24.24697498528008\n",
      "Mean Squared Error: 1575.4758107763082\n",
      "Root Mean Squared Error: 39.69226386559865\n",
      "Random Forest R2\": 0.8776\n",
      "Random Forest R2: 0.8776\n"
     ]
    }
   ],
   "source": [
    "# create a list of categorical variables for label encoding\n",
    "cat_var = [ 'customer_waste',\"price_price_deals\",\"price_tons_over_3\",\n",
    "       'customer_state', 'short_zip', \n",
    "       'date_entered_month']\n",
    "\n",
    "# create new encoded df with get_dummies\n",
    "\n",
    "df_enc = pd.get_dummies(df_model, columns=cat_var)\n",
    "X = df_enc.drop(\"price_haul\",axis=1)\n",
    "y = df_enc[\"price_haul\"]\n",
    "\n",
    "X_train, X_test, y_train, y_test = train_test_split(X, y, test_size=0.25, random_state=33)\n",
    "\n",
    "regressor = RandomForestRegressor(n_estimators=200, random_state=33)\n",
    "\n",
    "regressor.fit(X_train, y_train)\n",
    "\n",
    "y_pred = regressor.predict(X_test) \n",
    "\n",
    "\n",
    "print('Mean Absolute Error:', metrics.mean_absolute_error(y_test, y_pred))  \n",
    "print('Mean Squared Error:', metrics.mean_squared_error(y_test, y_pred))  \n",
    "print('Root Mean Squared Error:', np.sqrt(metrics.mean_squared_error(y_test, y_pred))) \n",
    "print('Random Forest R2\": %.4f' % r2_score(y_test, regressor.predict(X_test)))\n",
    "print('Random Forest R2: %.4f' % regressor.score(X_test, y_test))"
   ]
  },
  {
   "cell_type": "markdown",
   "metadata": {},
   "source": [
    "# Pickle Save/Load/Run"
   ]
  },
  {
   "cell_type": "code",
   "execution_count": 16,
   "metadata": {},
   "outputs": [
    {
     "name": "stdout",
     "output_type": "stream",
     "text": [
      "Random Forest R2: 0.8776\n",
      "0.8776228841314929\n"
     ]
    }
   ],
   "source": [
    "import pickle \n",
    "  \n",
    "# Save the trained model as a pickle string. \n",
    "saved_model_haul = pickle.dumps(regressor) \n",
    "  \n",
    "# Load the pickled model \n",
    "model_haul_from_pickle = pickle.loads(saved_model_haul) \n",
    "  \n",
    "# Use the loaded pickled model to make predictions \n",
    "model_haul_from_pickle.predict(X_test)\n",
    "\n",
    "print('Random Forest R2: %.4f' % r2_score(y_test, model_haul_from_pickle.predict(X_test)))\n",
    "\n",
    "# save the model to disk\n",
    "filename = 'model_haul_3cat.sav'\n",
    "#pickle.dump(regressor, open(filename, 'wb'))\n",
    " \n",
    "# some time later...\n",
    " \n",
    "# load the model from disk\n",
    "haul_loaded_model = pickle.load(open(filename, 'rb'))\n",
    "result = haul_loaded_model.score(X_test, y_test)\n",
    "print(result)"
   ]
  },
  {
   "cell_type": "markdown",
   "metadata": {},
   "source": [
    "# Single Prediction Code"
   ]
  },
  {
   "cell_type": "code",
   "execution_count": 19,
   "metadata": {},
   "outputs": [
    {
     "name": "stdout",
     "output_type": "stream",
     "text": [
      "Predicted *price_haul* for input values: [345.40815]\n"
     ]
    }
   ],
   "source": [
    "# Enter values to get single prediction\n",
    "\n",
    "input_dict = {\n",
    " 'short_zip':[432] ,\n",
    " 'customer_container_size': [30.0],\n",
    " 'customer_days_include': [7.0],\n",
    " 'customer_state': ['OH'],\n",
    " 'customer_tons_include_price': [3.5],\n",
    " 'customer_waste': ['CandD'],\n",
    " 'date_entered_day': [19.0],\n",
    " 'date_entered_hour': [17],\n",
    " 'date_entered_month': ['Jun'],\n",
    " 'date_entered_year': [2018.0],\n",
    " 'price_price_deals': ['FF'],\n",
    "  \"price_tons_over_3\":[75]}\n",
    "\n",
    "cat_var = ['price_price_deals', 'customer_waste',\n",
    "       'customer_state', 'date_entered_year',\n",
    "       'date_entered_month', 'date_entered_day', 'date_entered_hour']\n",
    "\n",
    "input_dict_df = pd.DataFrame.from_dict(input_dict)\n",
    "\n",
    "df_input = pd.get_dummies(input_dict_df, columns=cat_var)\n",
    "\n",
    "test_df = pd.DataFrame()\n",
    "\n",
    "for col in X_test.columns:\n",
    "    if col in df_input.columns:\n",
    "        test_df[col] = df_input[col].values\n",
    "    else:\n",
    "        test_df[col] = 0\n",
    "\n",
    "\n",
    "pred_haul = haul_loaded_model.predict(test_df)\n",
    "\n",
    "if input_dict['price_price_deals'] == \"FF\":\n",
    "    print(\"Predicted *price_total_cost* for input values:\", pred_haul)\n",
    "else:\n",
    "    print(\"Predicted *price_haul* for input values:\", pred_haul)"
   ]
  },
  {
   "cell_type": "code",
   "execution_count": null,
   "metadata": {},
   "outputs": [],
   "source": []
  }
 ],
 "metadata": {
  "kernelspec": {
   "display_name": "Python 3",
   "language": "python",
   "name": "python3"
  },
  "language_info": {
   "codemirror_mode": {
    "name": "ipython",
    "version": 3
   },
   "file_extension": ".py",
   "mimetype": "text/x-python",
   "name": "python",
   "nbconvert_exporter": "python",
   "pygments_lexer": "ipython3",
   "version": "3.7.3"
  }
 },
 "nbformat": 4,
 "nbformat_minor": 2
}
